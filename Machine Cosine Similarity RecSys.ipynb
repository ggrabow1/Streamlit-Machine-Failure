{
 "cells": [
  {
   "cell_type": "code",
   "execution_count": 5,
   "metadata": {},
   "outputs": [],
   "source": [
    "import pandas as pd"
   ]
  },
  {
   "cell_type": "markdown",
   "metadata": {},
   "source": [
    "# Create Python Recommender System Using Cosine Similarity\n",
    "- Recommend Next Best Action for Machines that are Predicted to Fail"
   ]
  },
  {
   "cell_type": "code",
   "execution_count": 6,
   "metadata": {},
   "outputs": [],
   "source": [
    "import pandas as pd\n",
    "import numpy as np\n",
    "import random\n",
    "from sklearn.feature_extraction.text import CountVectorizer\n",
    "from sklearn.metrics.pairwise import cosine_similarity\n",
    "from sklearn.preprocessing import OneHotEncoder\n",
    "from datetime import date\n",
    "import random\n",
    "\n",
    "df = pd.read_csv('Data_orig/machine_failure_recsys.csv',sep= ',')\n",
    "\n",
    "df=df.sample(frac=1).reset_index(drop=True)\n",
    "\n",
    "df['index']= df.index\n",
    " \n",
    "def action_if(x): \n",
    "    if (x < 10 ):\n",
    "        return ' '\n",
    "    elif (x < 604):\n",
    "        return 'Turn Off Machine'\n",
    "    elif (x < 1199):\n",
    "        return 'Run at 25% Capacity'\n",
    "    elif (x < 1492):\n",
    "        return 'Run at 50% Capacity'\n",
    "    elif (x < 1794):\n",
    "        return 'Run at 75% Capacity'\n",
    "    elif (x < 2389):\n",
    "        return 'Check Bearings'\n",
    "    elif (x < 2984):\n",
    "        return 'Check Belts'\n",
    "    elif (x < 3579):\n",
    "        return 'Check for Corrosion'\n",
    "    elif (x < 4175):\n",
    "        return 'Check for Misalignment'\n",
    "    elif (x < 4771):\n",
    "        return 'Test Electrical'\n",
    "    else:\n",
    "        return 'Test HVAC'\n",
    "    \n",
    "action_group = df.copy()   \n",
    "df['ACTION'] = action_group['index'].apply(action_if)\n",
    "\n",
    " \n",
    "df2 = df.fillna(0)\n",
    "#df = pd.concat([df1,df2], sort=False)\n",
    "\n",
    "\n",
    "df2 = df.fillna(0)\n",
    "df3 = df2.drop(['index', 'REPAIR_DATE', 'FAILURE', 'ACTION'], axis=1)\n",
    "\n",
    " \n",
    "df_scoring = df3[0:10]\n",
    "df_scoring\n",
    "df_history = df2.drop(['index', 'FAILURE'], axis=1)[10:]\n",
    "\n",
    "\n",
    "\n",
    "dfgene =df2[['DAILY_PRODUCTION', 'MONTHLY_PRODUCTION', 'PROD_TARGET', 'MONTHS_IN_OPERATION','NEGATIVE_RATING','DAYS_OUT_OF_SERVICE','MACHINE_AGE', 'SENSOR_INQUIRIES', 'NUM_SENSORS', 'SENSOR_RATIO']].to_numpy(dtype= 'float32')\n",
    "dfgene3 =df2[['DAILY_PRODUCTION', 'MONTHLY_PRODUCTION', 'PROD_TARGET', 'MONTHS_IN_OPERATION','NEGATIVE_RATING','DAYS_OUT_OF_SERVICE','MACHINE_AGE', 'SENSOR_INQUIRIES', 'NUM_SENSORS', 'SENSOR_RATIO']]\n",
    "\n",
    "\n",
    "\n",
    " \n",
    "# #write out remediation history and new failures\n",
    "# df_history.to_csv('/sasinside/userdata/gegrab/resources/hmeq/machine_failure_remediation_history.csv', index=False)\n",
    "# df_scoring.to_csv('Data_orig/machine_scoring.csv', index=False)\n"
   ]
  },
  {
   "cell_type": "code",
   "execution_count": 7,
   "metadata": {},
   "outputs": [
    {
     "data": {
      "text/plain": [
       "['MACHINE_ID',\n",
       " 'DAILY_PRODUCTION',\n",
       " 'MONTHLY_PRODUCTION',\n",
       " 'PROD_TARGET',\n",
       " 'REASON',\n",
       " 'MONTHS_IN_OPERATION',\n",
       " 'NEGATIVE_RATING',\n",
       " 'DAYS_OUT_OF_SERVICE',\n",
       " 'MACHINE_AGE',\n",
       " 'SENSOR_INQUIRIES',\n",
       " 'NUM_SENSORS',\n",
       " 'SENSOR_RATIO',\n",
       " 'INDUSTRY']"
      ]
     },
     "execution_count": 7,
     "metadata": {},
     "output_type": "execute_result"
    }
   ],
   "source": [
    "list(df_scoring)"
   ]
  },
  {
   "cell_type": "code",
   "execution_count": 8,
   "metadata": {},
   "outputs": [],
   "source": [
    "# def combined_features(row):\n",
    "#    return str(row['DAILY_PRODUCTION'])+\" \"+str(row['MONTHLY_PRODUCTION'])+\" \"+str(row['PROD_TARGET'])+\" \"+str(row['REASON'])+\" \"+str(row['MONTHS_IN_OPERATION'])+\" \"+str(row['NEGATIVE_RATING'])+\" \"+str(row['DAYS_OUT_OF_SERVICE'])+\" \"+str(row['MACHINE_AGE'])+\" \"+str(row['SENSOR_INQUIRIES'])+\" \"+str(row['NUM_SENSORS'])+\" \"+str(row['SENSOR_RATIO'])+\" \"+str(row['INDUSTRY'])\n",
    "# df[\"combined_features\"] = df.apply(combined_features, axis =1)\n",
    "\n",
    "# cv = CountVectorizer()\n",
    "# count_matrix = cv.fit_transform(df[\"combined_features\"])\n",
    "# print(\"Count Matrix:\", count_matrix.toarray())\n",
    "\n",
    "# machine_index =0\n",
    "# cosine_sim = cosine_similarity(count_matrix)\n",
    "# similar_machines = list(enumerate(cosine_sim[machine_index])) \n",
    "# sorted_similar_machines = sorted(similar_machines, key=lambda x:x[1], reverse=True)\n",
    "# print(sorted_similar_machines[0:11])"
   ]
  },
  {
   "cell_type": "code",
   "execution_count": 9,
   "metadata": {},
   "outputs": [
    {
     "name": "stdout",
     "output_type": "stream",
     "text": [
      "[(0, 0.9999999), (4916, 0.9999968), (5035, 0.99999607), (4814, 0.99999565), (837, 0.9999947), (2056, 0.99999315), (1538, 0.99999183), (1695, 0.9999914), (4900, 0.99999), (3214, 0.99998826), (3864, 0.9999874)]\n"
     ]
    }
   ],
   "source": [
    "machine_index =0\n",
    "cosine_sim = cosine_similarity(dfgene)\n",
    "similar_machines = list(enumerate(cosine_sim[machine_index])) \n",
    "sorted_similar_machines = sorted(similar_machines, key=lambda x:x[1], reverse=True)\n",
    "print(sorted_similar_machines[0:11])\n",
    "     "
   ]
  },
  {
   "cell_type": "code",
   "execution_count": 10,
   "metadata": {},
   "outputs": [
    {
     "name": "stdout",
     "output_type": "stream",
     "text": [
      "Machine ID with Predicted Failure:\n",
      " 792426\n",
      "\n",
      "\n",
      "\"Machine IDs with Similar Model Features and the Ensuing Response Action\"\n",
      "Machine IDs + Remediation + Remediation Date:\n",
      "\n",
      "(207610, 'Test HVAC', '4/27/2020')\n",
      "(95125, 'Test HVAC', '5/23/2019')\n",
      "(868528, 'Test HVAC', '3/3/2020')\n",
      "(839817, 'Run at 25% Capacity', '9/5/2019')\n",
      "(308908, 'Check Bearings', '12/8/2020')\n",
      "(922225, 'Run at 75% Capacity', '7/18/2021')\n",
      "(159930, 'Run at 75% Capacity', '4/28/2019')\n",
      "(186748, 'Test HVAC', '2/14/2021')\n",
      "(702812, 'Check for Corrosion', '6/25/2021')\n",
      "(50093, 'Check for Misalignment', '4/29/2020')\n"
     ]
    }
   ],
   "source": [
    "# Print remediation and date of machines that had the highest cosine simularity\n",
    "\n",
    "def get_machine_from_index2(index):\n",
    "    #return df[['MACHINE_ID' ,'FAILURE']]\n",
    "    return (df2[df2.index == index][\"MACHINE_ID\"].values[0], df2[df2.index == index][\"ACTION\"].values[0],\n",
    "            df2[df2.index == index][\"REPAIR_DATE\"].values[0])\n",
    "            #sorted_similar_machines[i][1], sorted_similar_machines[i][0])\n",
    "            \n",
    " \n",
    "\n",
    "print('Machine ID with Predicted Failure:\\n',df2[df2.index == 0][\"MACHINE_ID\"].values[0]) \n",
    "print('\\n')\n",
    "\n",
    "i=0\n",
    "print('\"Machine IDs with Similar Model Features and the Ensuing Response Action\"')\n",
    "print('Machine IDs + Remediation + Remediation Date:\\n')\n",
    "for machine in sorted_similar_machines:\n",
    "    i=i+1\n",
    "    \n",
    "    if i > 1:\n",
    "        print(get_machine_from_index2(machine[0]))  \n",
    "    if i  > 10:\n",
    "        break\n",
    "    \n",
    "        \n",
    "\n",
    "\n"
   ]
  },
  {
   "cell_type": "code",
   "execution_count": 11,
   "metadata": {},
   "outputs": [],
   "source": [
    "# i=0\n",
    "# for machine in sorted_similar_machines:\n",
    "#     print(get_machine_from_index2(machine[0]))\n",
    "#     i=i+1\n",
    "#     if i  > 10:\n",
    "#         break\n",
    "\n",
    "# machine[0:2]"
   ]
  },
  {
   "cell_type": "markdown",
   "metadata": {},
   "source": [
    "# Python Function for SAS Intelligent Decisioning"
   ]
  },
  {
   "cell_type": "code",
   "execution_count": 15,
   "metadata": {},
   "outputs": [],
   "source": [
    "''' List all output parameters as comma-separated values in the \"Output:\" docString. Do not specify \"None\" if there is no output parameter. '''\n",
    "def execute(MACHINE_ID,\n",
    "             DAILY_PRODUCTION,\n",
    "             MONTHLY_PRODUCTION,\n",
    "             PROD_TARGET,\n",
    "             REASON,\n",
    "             MONTHS_IN_OPERATION,\n",
    "             NEGATIVE_RATING,\n",
    "             DAYS_OUT_OF_SERVICE,\n",
    "             MACHINE_AGE,\n",
    "             SENSOR_INQUIRIES,\n",
    "             NUM_SENSORS,\n",
    "             SENSOR_RATIO,\n",
    "             INDUSTRY) :\n",
    "    \"Output: COSINE_1, MACHINE_ID_1, MACHINE_ID_2, REPAIR_DATE_1, ACTION_1\"\n",
    "             \n",
    "    import pandas as pd\n",
    "    import numpy as np\n",
    "    from sklearn.metrics.pairwise import cosine_similarity\n",
    "    from sklearn.preprocessing import StandardScaler\n",
    "    \n",
    "    inputArray = pd.DataFrame([[MACHINE_ID, DAILY_PRODUCTION, MONTHLY_PRODUCTION, PROD_TARGET, REASON, MONTHS_IN_OPERATION, NEGATIVE_RATING, \n",
    "                               DAYS_OUT_OF_SERVICE, MACHINE_AGE, SENSOR_INQUIRIES, NUM_SENSORS, SENSOR_RATIO, INDUSTRY]],\n",
    "                              columns = [\"MACHINE_ID\", \"DAILY_PRODUCTION\", \"MONTHLY_PRODUCTION\", \"PROD_TARGET\", \"REASON\", \"MONTHS_IN_OPERATION\", \"NEGATIVE_RATING\", \n",
    "                              \"DAYS_OUT_OF_SERVICE\", \"MACHINE_AGE\", \"SENSOR_INQUIRIES\", \"NUM_SENSORS\", \"SENSOR_RATIO\", \"INDUSTRY\"]\n",
    "                             )\n",
    "    \n",
    "    inputArray2 =inputArray[[ \"DAILY_PRODUCTION\", \"MONTHLY_PRODUCTION\", \"PROD_TARGET\", \"MONTHS_IN_OPERATION\", \"NEGATIVE_RATING\",\n",
    "                              \"DAYS_OUT_OF_SERVICE\", \"MACHINE_AGE\", \"SENSOR_INQUIRIES\", \"NUM_SENSORS\", \"SENSOR_RATIO\"]]\n",
    "    \n",
    "    df = pd.read_csv('/sasinside/userdata/gegrab/resources/hmeq/machine_failure_remediation_history.csv',sep= ',')\n",
    "    df['index']= df.index+1\n",
    "    \n",
    "    df2 =df[[\"DAILY_PRODUCTION\", \"MONTHLY_PRODUCTION\", \"PROD_TARGET\", \"MONTHS_IN_OPERATION\", \"NEGATIVE_RATING\",\n",
    "             \"DAYS_OUT_OF_SERVICE\", \"MACHINE_AGE\", \"SENSOR_INQUIRIES\", \"NUM_SENSORS\", \"SENSOR_RATIO\"]]\n",
    "    \n",
    "    combined = pd.concat([inputArray2,df2], sort=False)\n",
    "      \n",
    "    scaler = StandardScaler()\n",
    "    combined2 = scaler.fit_transform(combined)\n",
    "    machine_index =0\n",
    "    cosine_sim = cosine_similarity(combined) \n",
    "    similar_machine = list(enumerate(cosine_sim[machine_index])) \n",
    "    sorted_similar_machine = pd.DataFrame(sorted(similar_machine, key=lambda x:x[1], reverse=True))\n",
    "    sorted_similar_machine.columns  = ['index', 'cosine_sim']\n",
    "    \n",
    "    merged = pd.merge(sorted_similar_machine, df,on=['index'])\n",
    "    \n",
    "    \n",
    "    COSINE_1 = float(merged.iloc[0][1])\n",
    "      \n",
    "   \n",
    "    MACHINE_ID_1 = float(merged.iloc[0][2])\n",
    "    MACHINE_ID_2 = float(merged.iloc[1][2])\n",
    "    \n",
    "    REPAIR_DATE_1 = merged.iloc[0][15]\n",
    "    ACTION_1 = merged.iloc[0][16]\n",
    "    \n",
    "   \n",
    "   \n",
    "    return (COSINE_1, MACHINE_ID_1, MACHINE_ID_2, REPAIR_DATE_1, ACTION_1)"
   ]
  },
  {
   "cell_type": "code",
   "execution_count": 16,
   "metadata": {},
   "outputs": [
    {
     "name": "stdout",
     "output_type": "stream",
     "text": [
      "(0.9999482241602851, 509630.0, 967543.0, '4/7/2019', 'Test Electrical')\n",
      "(0.9999986233647989, 104860.0, 512611.0, '2/18/2019', 'Turn Off Machine')\n",
      "(1.0, 75262.0, 439651.0, '1/31/2020', 'Turn Off Machine')\n",
      "(0.9999595644911882, 190427.0, 214434.0, '3/15/2020', 'Check for Misalignment')\n",
      "(0.9999969996884436, 181497.0, 870341.0, '3/23/2019', 'Check for Misalignment')\n",
      "(0.999947333491292, 938512.0, 569570.0, '10/13/2020', 'Check for Corrosion')\n",
      "(0.9999992281878497, 434968.0, 883831.0, '1/25/2019', 'Check Bearings')\n",
      "(0.9999968709793877, 904705.0, 209906.0, '6/14/2020', 'Run at 25% Capacity')\n",
      "(0.9999982281796491, 284216.0, 298069.0, '8/25/2019', 'Run at 50% Capacity')\n",
      "(0.9999870240673199, 57408.0, 240635.0, '5/3/2021', 'Check for Misalignment')\n"
     ]
    }
   ],
   "source": [
    "test = pd.read_csv('Data_orig/machine_scoring.csv')\n",
    "test\n",
    "\n",
    "for i in range(10):\n",
    "    print(execute(**test.iloc[i]))\n"
   ]
  },
  {
   "cell_type": "code",
   "execution_count": null,
   "metadata": {},
   "outputs": [],
   "source": []
  }
 ],
 "metadata": {
  "kernelspec": {
   "display_name": "Python 3",
   "language": "python",
   "name": "python3"
  },
  "language_info": {
   "codemirror_mode": {
    "name": "ipython",
    "version": 3
   },
   "file_extension": ".py",
   "mimetype": "text/x-python",
   "name": "python",
   "nbconvert_exporter": "python",
   "pygments_lexer": "ipython3",
   "version": "3.6.10"
  }
 },
 "nbformat": 4,
 "nbformat_minor": 4
}
