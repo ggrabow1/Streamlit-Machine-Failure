{
 "cells": [
  {
   "cell_type": "code",
   "execution_count": null,
   "metadata": {},
   "outputs": [],
   "source": [
    "import numpy as np "
   ]
  },
  {
   "cell_type": "code",
   "execution_count": 21,
   "metadata": {
    "id": "7Np6RCC8nbAJ"
   },
   "outputs": [],
   "source": [
    "import numpy as np\n",
    "import pandas as pd\n",
    "import tensorflow as tf\n",
    "from tensorflow import keras\n",
    "import pickle\n",
    "import matplotlib.pyplot as plt\n",
    "from sklearn.metrics import accuracy_score\n",
    "from tensorflow.keras.optimizers import Adam\n",
    "from sklearn.preprocessing import MinMaxScaler # range 0-1\n",
    "from sklearn.preprocessing import StandardScaler # mean=0, stdev=1 dividing a score’s deviation by the standard deviation\n",
    "from tensorflow.keras import Model, Sequential\n",
    "from tensorflow.keras.layers import Dense, Dropout\n",
    "from sklearn.model_selection import train_test_split\n",
    "from tensorflow.keras.losses import MeanSquaredLogarithmicError"
   ]
  },
  {
   "cell_type": "markdown",
   "metadata": {
    "id": "YL7Kir1Jvwzc"
   },
   "source": [
    "## Load the data"
   ]
  },
  {
   "cell_type": "code",
   "execution_count": 22,
   "metadata": {
    "colab": {
     "base_uri": "https://localhost:8080/",
     "height": 270
    },
    "id": "ATDPsAdxnsr6",
    "outputId": "c5796a79-62ad-4fa8-d86b-6854cf6265d1"
   },
   "outputs": [
    {
     "name": "stdout",
     "output_type": "stream",
     "text": [
      "1.0    2919\n",
      "0.0    2079\n",
      "Name: S_140, dtype: int64\n",
      "0.0    2919\n",
      "1.0    2079\n",
      "Name: TARGET, dtype: int64\n",
      "(4998, 143)\n",
      "   MACHINE_ID SENSOR_DATE       S_0       S_1       S_2       S_3       S_4  \\\n",
      "0    77126575  2008-01-01 -0.112522 -2.827204 -3.773897 -4.349751 -4.376041   \n",
      "1    77126575  2008-01-02 -1.100878 -3.996840 -4.285843 -4.506579 -4.022377   \n",
      "2    77126575  2008-01-03 -0.567088 -2.593450 -3.874230 -4.584095 -4.187449   \n",
      "3    77126575  2008-01-04  0.490473 -1.914407 -3.616364 -4.318823 -4.268016   \n",
      "4    77126575  2008-01-05  0.800232 -0.874252 -2.384761 -3.973292 -4.338224   \n",
      "\n",
      "        S_5       S_6       S_7  ...     S_131     S_132     S_133     S_134  \\\n",
      "0 -3.474986 -2.181408 -1.818286  ...  0.792168  0.933541  0.796958  0.578621   \n",
      "1 -3.234368 -1.566126 -0.992258  ...  0.538356  0.656881  0.787490  0.724046   \n",
      "2 -3.151462 -1.742940 -1.490659  ...  0.886073  0.531452  0.311377 -0.021919   \n",
      "3 -3.881110 -2.993280 -1.671131  ...  0.350816  0.499111  0.600345  0.842069   \n",
      "4 -3.802422 -2.534510 -1.783423  ...  1.148884  0.958434  1.059025  1.371682   \n",
      "\n",
      "      S_135     S_136     S_137     S_138     S_139  TARGET  \n",
      "0  0.257740  0.228077  0.123431  0.925286  0.193137     0.0  \n",
      "1  0.555784  0.476333  0.773820  1.119621 -1.436250     0.0  \n",
      "2 -0.713683 -0.532197  0.321097  0.904227 -0.421797     0.0  \n",
      "3  0.952074  0.990133  1.086798  1.403011 -0.383564     0.0  \n",
      "4  1.277392  0.960304  0.971020  1.614392  1.421456     0.0  \n",
      "\n",
      "[5 rows x 143 columns]\n"
     ]
    },
    {
     "data": {
      "text/plain": [
       "0       2008-01-01\n",
       "1       2008-01-02\n",
       "2       2008-01-03\n",
       "3       2008-01-04\n",
       "4       2008-01-05\n",
       "           ...    \n",
       "4993    2021-09-02\n",
       "4994    2021-09-03\n",
       "4995    2021-09-04\n",
       "4996    2021-09-05\n",
       "4997    2021-09-06\n",
       "Name: SENSOR_DATE, Length: 4998, dtype: object"
      ]
     },
     "execution_count": 22,
     "metadata": {},
     "output_type": "execute_result"
    }
   ],
   "source": [
    "# # Download the dataset\n",
    "# PATH_TO_DATA = 'http://storage.googleapis.com/download.tensorflow.org/data/ecg.csv'\n",
    "# data = pd.read_csv(PATH_TO_DATA, header=None).add_prefix('S_')\n",
    "# print(data['S_140'].value_counts())\n",
    "\n",
    "# # last column is the target\n",
    "# # 0 = anomaly, 1 = normal\n",
    "# #switch values\n",
    "# data.replace({'S_140':{0:1, 1:0}},inplace=True)\n",
    "\n",
    "# data.insert(0, 'MACHINE_ID' , 77126575)\n",
    "# data.insert(1, 'SENSOR_DATE',pd.date_range(start='2/1/2022', periods=len(data), freq='MIN'))\n",
    "# data.rename({'S_140': 'TARGET'}, axis=1, inplace=True)\n",
    "\n",
    "# print(data['TARGET'].value_counts())\n",
    "# print(data.shape)\n",
    "# print(data.head())\n",
    "\n",
    "# data.to_csv('Data_orig/machine_anomaly.csv', index=False)\n",
    "\n",
    "# data.iloc[287:297].drop(['TARGET'],axis=1).to_csv('Data_orig/machine_anomaly_test_1.csv', index=False) \n",
    "\n",
    "# test_target =data.iloc[287:297,-1]\n",
    "\n",
    "\n",
    "\n",
    "# Download the dataset\n",
    "PATH_TO_DATA = 'http://storage.googleapis.com/download.tensorflow.org/data/ecg.csv'\n",
    "data = pd.read_csv(PATH_TO_DATA, header=None).add_prefix('S_')\n",
    "print(data['S_140'].value_counts())\n",
    "\n",
    "# last column is the target\n",
    "# 0 = anomaly, 1 = normal\n",
    "#switch values\n",
    "data.replace({'S_140':{0:1, 1:0}},inplace=True)\n",
    "\n",
    "data.insert(0, 'MACHINE_ID' , 77126575)\n",
    "data.insert(1, 'SENSOR_DATE_ORIG',pd.date_range(start='1/1/2008', periods=len(data), freq='D')) \n",
    "data.rename({'S_140': 'TARGET'}, axis=1, inplace=True)\n",
    "\n",
    "SENSOR_DATE = data.SENSOR_DATE_ORIG.dt.strftime('%Y-%m-%d')   #.astype(int)\n",
    "\n",
    " \n",
    "data.insert(2, 'SENSOR_DATE', SENSOR_DATE) \n",
    "data.drop('SENSOR_DATE_ORIG', axis=1, inplace=True)\n",
    "\n",
    " \n",
    "\n",
    "print(data['TARGET'].value_counts())\n",
    "print(data.shape)\n",
    "print(data.head())\n",
    "\n",
    "data.to_csv('Data_orig/machine_anomaly.csv', index=False)\n",
    "\n",
    "data.iloc[287:297].drop(['TARGET'],axis=1).to_csv('Data_orig/machine_anomaly_test_1.csv', index=False) \n",
    "\n",
    "test_target =data.iloc[287:297,-1]\n",
    "\n",
    "\n",
    "data.SENSOR_DATE\n"
   ]
  },
  {
   "cell_type": "code",
   "execution_count": 23,
   "metadata": {},
   "outputs": [
    {
     "name": "stdout",
     "output_type": "stream",
     "text": [
      "0.0    2919\n",
      "1.0    2079\n",
      "Name: TARGET, dtype: int64\n"
     ]
    }
   ],
   "source": [
    "machine = pd.read_csv('Data_orig/machine_anomaly.csv')\n",
    "machine['TARGET']\n",
    "print(machine['TARGET'].value_counts()) "
   ]
  },
  {
   "cell_type": "markdown",
   "metadata": {
    "id": "sV6KUkRgvoOK"
   },
   "source": [
    "## Split the data for training and testing"
   ]
  },
  {
   "cell_type": "code",
   "execution_count": 24,
   "metadata": {
    "id": "OTEDLRtA4I9k"
   },
   "outputs": [],
   "source": [
    "target = machine['TARGET']\n",
    "\n",
    "features = machine.drop(['MACHINE_ID', 'SENSOR_DATE', 'TARGET'], axis=1)\n",
    " \n",
    "x_train, x_test, y_train, y_test = train_test_split(\n",
    "    features, target, test_size=0.2, stratify=target)\n",
    "\n",
    " "
   ]
  },
  {
   "cell_type": "code",
   "execution_count": 25,
   "metadata": {
    "id": "2mjzHNYjLviR"
   },
   "outputs": [],
   "source": [
    "# use case is novelty detection so use only the normal data\n",
    "# for training\n",
    "train_index = y_train[y_train == 0].index\n",
    "train_data = x_train.loc[train_index]\n",
    "\n",
    " "
   ]
  },
  {
   "cell_type": "markdown",
   "metadata": {
    "id": "mfk5mwbhv03v"
   },
   "source": [
    "## Scale the data using MinMaxScaler"
   ]
  },
  {
   "cell_type": "code",
   "execution_count": 26,
   "metadata": {
    "id": "cmJhTiuBts4F"
   },
   "outputs": [],
   "source": [
    "#scaler = MinMaxScaler(feature_range=(0, 1))\n",
    "scaler = StandardScaler()\n",
    "x_train_scaled = scaler.fit_transform(train_data.copy())\n",
    "x_test_scaled = scaler.transform(x_test.copy())\n",
    "\n",
    "pickle.dump(scaler, open('/sasinside/userdata/gegrab/resources/hmeq/machine_anomaly_scaler.pickle', 'wb'))"
   ]
  },
  {
   "cell_type": "markdown",
   "metadata": {
    "id": "AFLk9eJrwqvl"
   },
   "source": [
    "## Build an AutoEncoder model"
   ]
  },
  {
   "cell_type": "code",
   "execution_count": 27,
   "metadata": {
    "id": "N9VmLu89uPIY"
   },
   "outputs": [],
   "source": [
    "# create a model by subclassing Model class in tensorflow\n",
    "class AutoEncoder(Model):\n",
    "  \"\"\"\n",
    "  Parameters\n",
    "  ----------\n",
    "  output_units: int\n",
    "    Number of output units\n",
    "  \n",
    "  code_size: int\n",
    "    Number of units in bottle neck\n",
    "  \"\"\"\n",
    "\n",
    "  def __init__(self, output_units, code_size=8):\n",
    "    super().__init__()\n",
    "    self.encoder = Sequential([\n",
    "      Dense(64, activation='relu'),\n",
    "      Dropout(0.1),\n",
    "      Dense(32, activation='relu'),\n",
    "      Dropout(0.1),\n",
    "      Dense(16, activation='relu'),\n",
    "      Dropout(0.1),\n",
    "      Dense(code_size, activation='relu')\n",
    "    ])\n",
    "    self.decoder = Sequential([\n",
    "      Dense(16, activation='relu'),\n",
    "      Dropout(0.1),\n",
    "      Dense(32, activation='relu'),\n",
    "      Dropout(0.1),\n",
    "      Dense(64, activation='relu'),\n",
    "      Dropout(0.1),\n",
    "      Dense(output_units, activation='sigmoid')\n",
    "    ])\n",
    "  \n",
    "  def call(self, inputs):\n",
    "    encoded = self.encoder(inputs)\n",
    "    decoded = self.decoder(encoded)\n",
    "    return decoded"
   ]
  },
  {
   "cell_type": "code",
   "execution_count": 28,
   "metadata": {
    "colab": {
     "base_uri": "https://localhost:8080/"
    },
    "id": "-oylLrsQuPD5",
    "outputId": "9e8b92a5-2507-4f5e-a9a1-33c398d36a70"
   },
   "outputs": [
    {
     "name": "stdout",
     "output_type": "stream",
     "text": [
      "Epoch 1/20\n",
      "5/5 [==============================] - 1s 41ms/step - loss: 0.1423 - mse: 1.2478 - val_loss: 0.1952 - val_mse: 2.4818\n",
      "Epoch 2/20\n",
      "5/5 [==============================] - 0s 10ms/step - loss: 0.1409 - mse: 1.2375 - val_loss: 0.1918 - val_mse: 2.4533\n",
      "Epoch 3/20\n",
      "5/5 [==============================] - 0s 10ms/step - loss: 0.1385 - mse: 1.2178 - val_loss: 0.1858 - val_mse: 2.3981\n",
      "Epoch 4/20\n",
      "5/5 [==============================] - 0s 10ms/step - loss: 0.1347 - mse: 1.1851 - val_loss: 0.1797 - val_mse: 2.3292\n",
      "Epoch 5/20\n",
      "5/5 [==============================] - 0s 10ms/step - loss: 0.1316 - mse: 1.1557 - val_loss: 0.1762 - val_mse: 2.2770\n",
      "Epoch 6/20\n",
      "5/5 [==============================] - 0s 10ms/step - loss: 0.1286 - mse: 1.1311 - val_loss: 0.1754 - val_mse: 2.2581\n",
      "Epoch 7/20\n",
      "5/5 [==============================] - 0s 11ms/step - loss: 0.1264 - mse: 1.1184 - val_loss: 0.1753 - val_mse: 2.2588\n",
      "Epoch 8/20\n",
      "5/5 [==============================] - 0s 11ms/step - loss: 0.1245 - mse: 1.1103 - val_loss: 0.1753 - val_mse: 2.2531\n",
      "Epoch 9/20\n",
      "5/5 [==============================] - 0s 11ms/step - loss: 0.1228 - mse: 1.1026 - val_loss: 0.1757 - val_mse: 2.2482\n",
      "Epoch 10/20\n",
      "5/5 [==============================] - 0s 10ms/step - loss: 0.1212 - mse: 1.0955 - val_loss: 0.1760 - val_mse: 2.2469\n",
      "Epoch 11/20\n",
      "5/5 [==============================] - 0s 10ms/step - loss: 0.1192 - mse: 1.0860 - val_loss: 0.1756 - val_mse: 2.2470\n",
      "Epoch 12/20\n",
      "5/5 [==============================] - 0s 11ms/step - loss: 0.1169 - mse: 1.0760 - val_loss: 0.1748 - val_mse: 2.2427\n",
      "Epoch 13/20\n",
      "5/5 [==============================] - 0s 11ms/step - loss: 0.1141 - mse: 1.0636 - val_loss: 0.1736 - val_mse: 2.2375\n",
      "Epoch 14/20\n",
      "5/5 [==============================] - 0s 11ms/step - loss: 0.1108 - mse: 1.0481 - val_loss: 0.1709 - val_mse: 2.2194\n",
      "Epoch 15/20\n",
      "5/5 [==============================] - 0s 10ms/step - loss: 0.1068 - mse: 1.0309 - val_loss: 0.1685 - val_mse: 2.1964\n",
      "Epoch 16/20\n",
      "5/5 [==============================] - 0s 11ms/step - loss: 0.1025 - mse: 1.0098 - val_loss: 0.1654 - val_mse: 2.1710\n",
      "Epoch 17/20\n",
      "5/5 [==============================] - 0s 10ms/step - loss: 0.0978 - mse: 0.9884 - val_loss: 0.1624 - val_mse: 2.1554\n",
      "Epoch 18/20\n",
      "5/5 [==============================] - 0s 10ms/step - loss: 0.0936 - mse: 0.9712 - val_loss: 0.1601 - val_mse: 2.1419\n",
      "Epoch 19/20\n",
      "5/5 [==============================] - 0s 10ms/step - loss: 0.0893 - mse: 0.9492 - val_loss: 0.1569 - val_mse: 2.1230\n",
      "Epoch 20/20\n",
      "5/5 [==============================] - 0s 10ms/step - loss: 0.0859 - mse: 0.9323 - val_loss: 0.1529 - val_mse: 2.1078\n"
     ]
    }
   ],
   "source": [
    "model = AutoEncoder(output_units=x_train_scaled.shape[1])\n",
    "# configurations of model\n",
    "model.compile(loss='msle', metrics=['mse'], optimizer='adam')\n",
    "\n",
    "history = model.fit(\n",
    "    x_train_scaled,\n",
    "    x_train_scaled,\n",
    "    epochs=20,\n",
    "    batch_size=512,\n",
    "    validation_data=(x_test_scaled, x_test_scaled)\n",
    ")"
   ]
  },
  {
   "cell_type": "markdown",
   "metadata": {
    "id": "DCD6ykuG6wvV"
   },
   "source": [
    "## Plot history"
   ]
  },
  {
   "cell_type": "code",
   "execution_count": 29,
   "metadata": {
    "colab": {
     "base_uri": "https://localhost:8080/",
     "height": 281
    },
    "id": "ohEpArnj6NMG",
    "outputId": "9e513350-cbc3-4602-ddc6-7e8104302d2a"
   },
   "outputs": [
    {
     "data": {
      "image/png": "[encoded data removed]",
      "text/plain": [
       "<Figure size 432x288 with 1 Axes>"
      ]
     },
     "metadata": {
      "needs_background": "light"
     },
     "output_type": "display_data"
    }
   ],
   "source": [
    "plt.plot(history.history['loss'])\n",
    "plt.plot(history.history['val_loss'])\n",
    "plt.xlabel('Epochs')\n",
    "plt.ylabel('MSLE Loss')\n",
    "plt.legend(['loss', 'val_loss'])\n",
    "plt.show()"
   ]
  },
  {
   "cell_type": "markdown",
   "metadata": {
    "id": "OPNtOnsENWwc"
   },
   "source": [
    "## Find threshold"
   ]
  },
  {
   "cell_type": "code",
   "execution_count": 30,
   "metadata": {
    "id": "ACFZcFWEFNpQ"
   },
   "outputs": [],
   "source": [
    "def find_threshold(model, x_train_scaled):\n",
    "  reconstructions = model.predict(x_train_scaled)\n",
    "  # provides losses of individual instances\n",
    "  reconstruction_errors = tf.keras.losses.msle(reconstructions, x_train_scaled)\n",
    "\n",
    "  # threshold for anomaly scores\n",
    "  # choose a threshold value that is one standard deviations above the mean.  \n",
    " \n",
    "  threshold = np.mean(reconstruction_errors.numpy()) + np.std(reconstruction_errors.numpy())\n",
    "  return threshold\n",
    "\n",
    "def find_threshold_method_two(model, x_train_scaled):\n",
    "  # another method to find threshold\n",
    "  reconstructions = model.predict(x_train_scaled)\n",
    "  # provides losses of individual instances\n",
    "  reconstruction_errors = tf.keras.losses.msle(reconstructions, x_train_scaled)\n",
    "\n",
    "  threshold_2 = np.percentile(reconstruction_errors, 95)\n",
    "  return threshold_2\n",
    "\n",
    "def get_predictions(model, x_test_scaled, threshold):\n",
    "  predictions = model.predict(x_test_scaled)\n",
    "  # provides losses of individual instances\n",
    "  errors = tf.keras.losses.msle(predictions, x_test_scaled)\n",
    "  # 0 = anomaly, 1 = normal\n",
    "  anomaly_mask = pd.Series(errors) > threshold\n",
    "  #preds = anomaly_mask.map(lambda x: 0.0 if x == True else 1.0)\n",
    "  preds = anomaly_mask.map(lambda x: 1.0 if x == True else 0.0)\n",
    "  return preds"
   ]
  },
  {
   "cell_type": "code",
   "execution_count": 31,
   "metadata": {},
   "outputs": [],
   "source": [
    "predictions = model.predict(x_test_scaled[0:1])\n",
    "#print(predictions)\n",
    "\n",
    "#type(predictions), type(test_data)\n",
    "#x_test_scaled[0:1]\n",
    "#print(predictions[0])\n",
    "\n",
    " "
   ]
  },
  {
   "cell_type": "code",
   "execution_count": 32,
   "metadata": {
    "colab": {
     "base_uri": "https://localhost:8080/"
    },
    "id": "W4Mxr7cnHPk-",
    "outputId": "44e0954e-fa48-47ed-e0bb-9276cb67aa5d"
   },
   "outputs": [
    {
     "name": "stdout",
     "output_type": "stream",
     "text": [
      "Threshold method one: 0.13918493504076626\n",
      "Threshold method two: 0.19519625822615172\n"
     ]
    }
   ],
   "source": [
    "threshold = find_threshold(model, x_train_scaled)\n",
    "print(f\"Threshold method one: {threshold}\")\n",
    "\n",
    "threshold_2 = find_threshold_method_two(model, x_train_scaled)\n",
    "print(f\"Threshold method two: {threshold_2}\")"
   ]
  },
  {
   "cell_type": "code",
   "execution_count": 33,
   "metadata": {},
   "outputs": [
    {
     "data": {
      "text/plain": [
       "0.13918493504076626"
      ]
     },
     "execution_count": 33,
     "metadata": {},
     "output_type": "execute_result"
    }
   ],
   "source": [
    "pickle.dump(threshold, open('/sasinside/userdata/gegrab/resources/hmeq/machine_anomaly_threshold.pickle', 'wb'))\n",
    "\n",
    "gene = pickle.load(open('/sasinside/userdata/gegrab/resources/hmeq/machine_anomaly_threshold.pickle', 'rb'))    \n",
    "gene"
   ]
  },
  {
   "cell_type": "code",
   "execution_count": 34,
   "metadata": {
    "colab": {
     "base_uri": "https://localhost:8080/"
    },
    "id": "Bl0Op0GNHVDD",
    "outputId": "81efd337-cd8e-47e0-e4ca-d0e19c1ef2e1"
   },
   "outputs": [
    {
     "data": {
      "text/plain": [
       "0.939"
      ]
     },
     "execution_count": 34,
     "metadata": {},
     "output_type": "execute_result"
    }
   ],
   "source": [
    "preds = get_predictions(model, x_test_scaled, threshold)\n",
    "accuracy_score(preds, y_test)\n",
    " "
   ]
  },
  {
   "cell_type": "code",
   "execution_count": 35,
   "metadata": {},
   "outputs": [
    {
     "data": {
      "text/plain": [
       "1.0"
      ]
     },
     "execution_count": 35,
     "metadata": {},
     "output_type": "execute_result"
    }
   ],
   "source": [
    "preds[0]\n",
    "\n",
    "# preds[0:11], y_test.iloc[0:11], x_test_scaled[0]"
   ]
  },
  {
   "cell_type": "markdown",
   "metadata": {},
   "source": [
    "# Write Out Tensorflow (Keras) Model"
   ]
  },
  {
   "cell_type": "code",
   "execution_count": 36,
   "metadata": {},
   "outputs": [
    {
     "data": {
      "text/plain": [
       "array([[3.76880169e-04, 1.67788863e-02, 9.36573505e-01, 7.53196657e-01,\n",
       "        9.09284711e-01, 5.70903838e-01, 9.15075898e-01, 9.99612451e-01,\n",
       "        9.98230815e-01, 9.94687557e-01, 9.98071313e-01, 9.99876559e-01,\n",
       "        9.99770522e-01, 9.99968946e-01, 9.99971390e-01, 9.99962568e-01,\n",
       "        9.99679923e-01, 9.98948991e-01, 9.99974012e-01, 9.99930859e-01,\n",
       "        9.99976754e-01, 9.99745607e-01, 9.98048306e-01, 9.99925256e-01,\n",
       "        9.99977112e-01, 9.99982834e-01, 9.99924541e-01, 9.99934316e-01,\n",
       "        9.99971032e-01, 9.99856353e-01, 9.99933362e-01, 9.99993563e-01,\n",
       "        9.99998450e-01, 1.00000000e+00, 9.99943733e-01, 9.99995470e-01,\n",
       "        9.99995232e-01, 9.98732090e-01, 9.99994516e-01, 9.99994040e-01,\n",
       "        9.99998450e-01, 9.99998331e-01, 1.00000000e+00, 1.00000000e+00,\n",
       "        9.99880791e-01, 9.99980450e-01, 9.99991715e-01, 1.00000000e+00,\n",
       "        9.99997556e-01, 9.99999404e-01, 9.99997020e-01, 9.99988317e-01,\n",
       "        9.99980211e-01, 9.99676704e-01, 9.99995589e-01, 9.99993086e-01,\n",
       "        9.99716580e-01, 9.99568462e-01, 9.99529660e-01, 9.99136090e-01,\n",
       "        9.96891737e-01, 9.59661961e-01, 9.01034236e-01, 7.85878837e-01,\n",
       "        7.68018961e-01, 8.09538364e-01, 6.94835067e-01, 3.99125576e-01,\n",
       "        1.98542237e-01, 2.38466263e-03, 5.16892970e-02, 1.34503931e-01,\n",
       "        1.07316583e-01, 1.86409622e-01, 1.40849352e-02, 1.74861848e-02,\n",
       "        1.05020314e-01, 6.48039495e-05, 4.38302755e-04, 3.54832764e-06,\n",
       "        5.95539808e-04, 6.11218275e-05, 5.31746447e-02, 1.06947124e-02,\n",
       "        1.70886517e-04, 2.58642435e-03, 1.09927654e-02, 2.12239027e-02,\n",
       "        3.68115943e-05, 1.64203048e-02, 2.37056613e-03, 6.20137453e-02,\n",
       "        7.94003010e-02, 1.12377435e-01, 2.79677510e-01, 3.00987661e-01,\n",
       "        2.42720574e-01, 4.64093566e-01, 5.55907309e-01, 3.53257477e-01,\n",
       "        2.87883461e-01, 1.51963443e-01, 1.72609389e-01, 5.25918305e-02,\n",
       "        3.46698761e-02, 2.17258930e-02, 2.59488821e-04, 1.06047571e-06,\n",
       "        1.10275660e-05, 7.11591292e-06, 3.79822884e-09, 2.32749819e-10,\n",
       "        2.35420772e-09, 1.73693149e-08, 7.81562037e-10, 1.62776394e-06,\n",
       "        1.43750567e-11, 1.14070122e-06, 2.92191635e-06, 2.17081110e-11,\n",
       "        1.00920715e-07, 1.15801662e-07, 6.91882121e-07, 4.17273213e-07,\n",
       "        4.47589388e-09, 8.96239194e-11, 3.71840088e-07, 1.33070350e-03,\n",
       "        9.56317186e-02, 6.38105571e-02, 1.51242018e-02, 1.14665627e-02,\n",
       "        2.77829170e-03, 1.01661980e-02, 8.35199753e-05, 1.63647492e-05,\n",
       "        2.54899263e-04, 4.38034534e-04, 1.09809637e-03, 1.59268766e-05]],\n",
       "      dtype=float32)"
      ]
     },
     "execution_count": 36,
     "metadata": {},
     "output_type": "execute_result"
    }
   ],
   "source": [
    "from tensorflow import keras\n",
    "\n",
    "gene = x_test_scaled[0:1]\n",
    "\n",
    "modelName = \"FAILURE_Tensorflow_Autoencoder\"\n",
    "dir =  \"/sasinside/userdata/gegrab/resources/hmeq/\"\n",
    "\n",
    "model.save(dir + modelName)\n",
    "#tf.keras.models.save_model(dir + modelName)\n",
    "\n",
    "sess = keras.models.load_model(dir+ modelName)\n",
    "#sess = tf.keras.models.load_model(dir+modelName)\n",
    "\n",
    "\n",
    "\n",
    "\n",
    "P_FAILURE = sess.predict(gene)\n",
    "\n",
    "P_FAILURE\n",
    "\n"
   ]
  },
  {
   "cell_type": "code",
   "execution_count": 37,
   "metadata": {},
   "outputs": [
    {
     "name": "stdout",
     "output_type": "stream",
     "text": [
      "\"MACHINE_ID\", \"SENSOR_DATE\", \"S_0\", \"S_1\", \"S_2\", \"S_3\", \"S_4\", \"S_5\", \"S_6\", \"S_7\", \"S_8\", \"S_9\", \"S_10\", \"S_11\", \"S_12\", \"S_13\", \"S_14\", \"S_15\", \"S_16\", \"S_17\", \"S_18\", \"S_19\", \"S_20\", \"S_21\", \"S_22\", \"S_23\", \"S_24\", \"S_25\", \"S_26\", \"S_27\", \"S_28\", \"S_29\", \"S_30\", \"S_31\", \"S_32\", \"S_33\", \"S_34\", \"S_35\", \"S_36\", \"S_37\", \"S_38\", \"S_39\", \"S_40\", \"S_41\", \"S_42\", \"S_43\", \"S_44\", \"S_45\", \"S_46\", \"S_47\", \"S_48\", \"S_49\", \"S_50\", \"S_51\", \"S_52\", \"S_53\", \"S_54\", \"S_55\", \"S_56\", \"S_57\", \"S_58\", \"S_59\", \"S_60\", \"S_61\", \"S_62\", \"S_63\", \"S_64\", \"S_65\", \"S_66\", \"S_67\", \"S_68\", \"S_69\", \"S_70\", \"S_71\", \"S_72\", \"S_73\", \"S_74\", \"S_75\", \"S_76\", \"S_77\", \"S_78\", \"S_79\", \"S_80\", \"S_81\", \"S_82\", \"S_83\", \"S_84\", \"S_85\", \"S_86\", \"S_87\", \"S_88\", \"S_89\", \"S_90\", \"S_91\", \"S_92\", \"S_93\", \"S_94\", \"S_95\", \"S_96\", \"S_97\", \"S_98\", \"S_99\", \"S_100\", \"S_101\", \"S_102\", \"S_103\", \"S_104\", \"S_105\", \"S_106\", \"S_107\", \"S_108\", \"S_109\", \"S_110\", \"S_111\", \"S_112\", \"S_113\", \"S_114\", \"S_115\", \"S_116\", \"S_117\", \"S_118\", \"S_119\", \"S_120\", \"S_121\", \"S_122\", \"S_123\", \"S_124\", \"S_125\", \"S_126\", \"S_127\", \"S_128\", \"S_129\", \"S_130\", \"S_131\", \"S_132\", \"S_133\", \"S_134\", \"S_135\", \"S_136\", \"S_137\", \"S_138\", \"S_139\", \"TARGET\"\n",
      "\n",
      "MACHINE_ID, SENSOR_DATE, S_0, S_1, S_2, S_3, S_4, S_5, S_6, S_7, S_8, S_9, S_10, S_11, S_12, S_13, S_14, S_15, S_16, S_17, S_18, S_19, S_20, S_21, S_22, S_23, S_24, S_25, S_26, S_27, S_28, S_29, S_30, S_31, S_32, S_33, S_34, S_35, S_36, S_37, S_38, S_39, S_40, S_41, S_42, S_43, S_44, S_45, S_46, S_47, S_48, S_49, S_50, S_51, S_52, S_53, S_54, S_55, S_56, S_57, S_58, S_59, S_60, S_61, S_62, S_63, S_64, S_65, S_66, S_67, S_68, S_69, S_70, S_71, S_72, S_73, S_74, S_75, S_76, S_77, S_78, S_79, S_80, S_81, S_82, S_83, S_84, S_85, S_86, S_87, S_88, S_89, S_90, S_91, S_92, S_93, S_94, S_95, S_96, S_97, S_98, S_99, S_100, S_101, S_102, S_103, S_104, S_105, S_106, S_107, S_108, S_109, S_110, S_111, S_112, S_113, S_114, S_115, S_116, S_117, S_118, S_119, S_120, S_121, S_122, S_123, S_124, S_125, S_126, S_127, S_128, S_129, S_130, S_131, S_132, S_133, S_134, S_135, S_136, S_137, S_138, S_139, TARGET\n"
     ]
    }
   ],
   "source": [
    "input_params = ''\n",
    "for col in machine.columns:\n",
    "    input_params += col\n",
    "    if col != machine.columns[-1]:\n",
    "        input_params += ', '\n",
    "\n",
    "input_cols = ''\n",
    "for col in machine.columns:\n",
    "    input_cols += \"\\\"\" + col + \"\\\"\"\n",
    "    if col != machine.columns[-1]:\n",
    "        input_cols += ', '\n",
    "\n",
    "\n",
    "print(input_cols)\n",
    "print(\"\")\n",
    "print(input_params)"
   ]
  },
  {
   "cell_type": "code",
   "execution_count": 38,
   "metadata": {},
   "outputs": [],
   "source": [
    "tf.compat.v1.logging.set_verbosity(tf.compat.v1.logging.ERROR)"
   ]
  },
  {
   "cell_type": "code",
   "execution_count": 40,
   "metadata": {},
   "outputs": [],
   "source": [
    "def scoreTF(MACHINE_ID, SENSOR_DATE, S_0, S_1, S_2, S_3, S_4, S_5, S_6, S_7, S_8, S_9, S_10, S_11, S_12, S_13, S_14, S_15, S_16, S_17, S_18, S_19, S_20, S_21, S_22, S_23, S_24, S_25, S_26, S_27, S_28, S_29, S_30, S_31, S_32, S_33, S_34, S_35, S_36, S_37, S_38, S_39, S_40, S_41, S_42, S_43, S_44, S_45, S_46, S_47, S_48, S_49, S_50, S_51, S_52, S_53, S_54, S_55, S_56, S_57, S_58, S_59, S_60, S_61, S_62, S_63, S_64, S_65, S_66, S_67, S_68, S_69, S_70, S_71, S_72, S_73, S_74, S_75, S_76, S_77, S_78, S_79, S_80, S_81, S_82, S_83, S_84, S_85, S_86, S_87, S_88, S_89, S_90, S_91, S_92, S_93, S_94, S_95, S_96, S_97, S_98, S_99, S_100, S_101, S_102, S_103, S_104, S_105, S_106, S_107, S_108, S_109, S_110, S_111, S_112, S_113, S_114, S_115, S_116, S_117, S_118, S_119, S_120, S_121, S_122, S_123, S_124, S_125, S_126, S_127, S_128, S_129, S_130, S_131, S_132, S_133, S_134, S_135, S_136, S_137, S_138, S_139 ):\n",
    "    \"Output: ANOMALY_FLAG, errors, threshold,  max_anomaly_sensor\"\n",
    "    \n",
    "    import pickle\n",
    "    import numpy as np\n",
    "    import pandas as pd\n",
    "    import tensorflow as tf\n",
    "    from tensorflow import keras\n",
    "    \n",
    "    inputArray = pd.DataFrame([[MACHINE_ID, SENSOR_DATE, S_0, S_1, S_2, S_3, S_4, S_5, S_6, S_7, S_8, S_9, S_10, S_11, S_12, S_13, S_14, S_15, S_16, S_17, S_18, S_19, S_20, S_21, S_22, S_23, S_24, S_25, S_26, S_27, S_28, S_29, S_30, S_31, S_32, S_33, S_34, S_35, S_36, S_37, S_38, S_39, S_40, S_41, S_42, S_43, S_44, S_45, S_46, S_47, S_48, S_49, S_50, S_51, S_52, S_53, S_54, S_55, S_56, S_57, S_58, S_59, S_60, S_61, S_62, S_63, S_64, S_65, S_66, S_67, S_68, S_69, S_70, S_71, S_72, S_73, S_74, S_75, S_76, S_77, S_78, S_79, S_80, S_81, S_82, S_83, S_84, S_85, S_86, S_87, S_88, S_89, S_90, S_91, S_92, S_93, S_94, S_95, S_96, S_97, S_98, S_99, S_100, S_101, S_102, S_103, S_104, S_105, S_106, S_107, S_108, S_109, S_110, S_111, S_112, S_113, S_114, S_115, S_116, S_117, S_118, S_119, S_120, S_121, S_122, S_123, S_124, S_125, S_126, S_127, S_128, S_129, S_130, S_131, S_132, S_133, S_134, S_135, S_136, S_137, S_138, S_139]],\n",
    "                              columns = [\"MACHINE_ID\", \"SENSOR_DATE\", \"S_0\", \"S_1\", \"S_2\", \"S_3\", \"S_4\", \"S_5\", \"S_6\", \"S_7\", \"S_8\", \"S_9\", \"S_10\", \"S_11\", \"S_12\", \"S_13\", \"S_14\", \"S_15\", \"S_16\", \"S_17\", \"S_18\", \"S_19\", \"S_20\", \"S_21\", \"S_22\", \"S_23\", \"S_24\", \"S_25\", \"S_26\", \"S_27\", \"S_28\", \"S_29\", \"S_30\", \"S_31\", \"S_32\", \"S_33\", \"S_34\", \"S_35\", \"S_36\", \"S_37\", \"S_38\", \"S_39\", \"S_40\", \"S_41\", \"S_42\", \"S_43\", \"S_44\", \"S_45\", \"S_46\", \"S_47\", \"S_48\", \"S_49\", \"S_50\", \"S_51\", \"S_52\", \"S_53\", \"S_54\", \"S_55\", \"S_56\", \"S_57\", \"S_58\", \"S_59\", \"S_60\", \"S_61\", \"S_62\", \"S_63\", \"S_64\", \"S_65\", \"S_66\", \"S_67\", \"S_68\", \"S_69\", \"S_70\", \"S_71\", \"S_72\", \"S_73\", \"S_74\", \"S_75\", \"S_76\", \"S_77\", \"S_78\", \"S_79\", \"S_80\", \"S_81\", \"S_82\", \"S_83\", \"S_84\", \"S_85\", \"S_86\", \"S_87\", \"S_88\", \"S_89\", \"S_90\", \"S_91\", \"S_92\", \"S_93\", \"S_94\", \"S_95\", \"S_96\", \"S_97\", \"S_98\", \"S_99\", \"S_100\", \"S_101\", \"S_102\", \"S_103\", \"S_104\", \"S_105\", \"S_106\", \"S_107\", \"S_108\", \"S_109\", \"S_110\", \"S_111\", \"S_112\", \"S_113\", \"S_114\", \"S_115\", \"S_116\", \"S_117\", \"S_118\", \"S_119\", \"S_120\", \"S_121\", \"S_122\", \"S_123\", \"S_124\", \"S_125\", \"S_126\", \"S_127\", \"S_128\", \"S_129\", \"S_130\", \"S_131\", \"S_132\", \"S_133\", \"S_134\", \"S_135\", \"S_136\", \"S_137\", \"S_138\", \"S_139\"]\n",
    "                               )\n",
    "\n",
    "    \n",
    "    inputArray.drop(['MACHINE_ID', 'SENSOR_DATE'],axis=1, inplace=True)\n",
    "    \n",
    "    #print(type(gene))\n",
    "    scaler = pickle.load(open('/sasinside/userdata/gegrab/resources/hmeq/machine_anomaly_scaler.pickle', 'rb'))\n",
    "    \n",
    "    test_data = scaler.transform(inputArray)\n",
    "     \n",
    "    tf.convert_to_tensor(test_data)\n",
    "    \n",
    "     \n",
    "    \n",
    "    #sess = tf.keras.models.load_model(\"/sasinside/userdata/gegrab/resources/hmeq/FAILURE_Tensorflow_Autoencoder\")\n",
    "    sess = keras.models.load_model(\"/sasinside/userdata/gegrab/resources/hmeq/FAILURE_Tensorflow_Autoencoder\")\n",
    "    threshold = pickle.load(open('/sasinside/userdata/gegrab/resources/hmeq/machine_anomaly_threshold.pickle', 'rb')) \n",
    "    predictions = sess.predict(test_data)\n",
    "    errors = tf.keras.losses.msle(predictions, test_data)\n",
    "    \n",
    "    features= np.subtract(predictions, test_data)**2\n",
    "    sensor_flag= 'S_' + str(int(np.where(features ==np.amax(features))[1])) \n",
    "     \n",
    "   \n",
    "\n",
    "    anomaly_mask = pd.Series(errors) > threshold\n",
    "    preds = anomaly_mask.map(lambda x: 1.0 if x == True else 0.0)\n",
    "    \n",
    " \n",
    "    \n",
    "    ANOMALY_FLAG =float(preds)\n",
    "    errors=float(errors)\n",
    "    threshold=float(threshold)\n",
    "    \n",
    "    if ANOMALY_FLAG == 1:\n",
    "        max_anomaly_sensor = sensor_flag\n",
    "    else:\n",
    "        max_anomaly_sensor= ' '\n",
    "\n",
    "     \n",
    "    \n",
    "    \n",
    "    return (ANOMALY_FLAG, errors,threshold,  max_anomaly_sensor)\n",
    "    \n",
    " "
   ]
  },
  {
   "cell_type": "code",
   "execution_count": 41,
   "metadata": {},
   "outputs": [
    {
     "name": "stdout",
     "output_type": "stream",
     "text": [
      "(0.0, 0.1015612329558971, 0.13918493504076626, ' ')\n",
      "(0.0, 0.07110579959619269, 0.13918493504076626, ' ')\n",
      "(1.0, 0.15922357554450436, 0.13918493504076626, 'S_132')\n",
      "(0.0, 0.08813256183414701, 0.13918493504076626, ' ')\n",
      "(0.0, 0.07477334842534157, 0.13918493504076626, ' ')\n",
      "(1.0, 0.25150121377609685, 0.13918493504076626, 'S_132')\n",
      "(1.0, 0.25365061733337263, 0.13918493504076626, 'S_132')\n",
      "(1.0, 0.2435144101731589, 0.13918493504076626, 'S_136')\n",
      "(1.0, 0.2536326652770436, 0.13918493504076626, 'S_132')\n",
      "(1.0, 0.28506472120374327, 0.13918493504076626, 'S_138')\n"
     ]
    }
   ],
   "source": [
    "import pandas as pd\n",
    "X_test2 = pd.read_csv('Data_orig/machine_anomaly_test_1.csv')\n",
    "\n",
    "for i in range(10):\n",
    "    print(scoreTF(**X_test2.iloc[i]))\n",
    " "
   ]
  },
  {
   "cell_type": "code",
   "execution_count": 102,
   "metadata": {},
   "outputs": [],
   "source": [
    "#X_test2.dtypes"
   ]
  },
  {
   "cell_type": "code",
   "execution_count": 42,
   "metadata": {},
   "outputs": [],
   "source": [
    "score_code = \"\"\"\n",
    "def scoreTF(MACHINE_ID, SENSOR_DATE, S_0, S_1, S_2, S_3, S_4, S_5, S_6, S_7, S_8, S_9, S_10, S_11, S_12, S_13, S_14, S_15, S_16, S_17, S_18, S_19, S_20, S_21, S_22, S_23, S_24, S_25, S_26, S_27, S_28, S_29, S_30, S_31, S_32, S_33, S_34, S_35, S_36, S_37, S_38, S_39, S_40, S_41, S_42, S_43, S_44, S_45, S_46, S_47, S_48, S_49, S_50, S_51, S_52, S_53, S_54, S_55, S_56, S_57, S_58, S_59, S_60, S_61, S_62, S_63, S_64, S_65, S_66, S_67, S_68, S_69, S_70, S_71, S_72, S_73, S_74, S_75, S_76, S_77, S_78, S_79, S_80, S_81, S_82, S_83, S_84, S_85, S_86, S_87, S_88, S_89, S_90, S_91, S_92, S_93, S_94, S_95, S_96, S_97, S_98, S_99, S_100, S_101, S_102, S_103, S_104, S_105, S_106, S_107, S_108, S_109, S_110, S_111, S_112, S_113, S_114, S_115, S_116, S_117, S_118, S_119, S_120, S_121, S_122, S_123, S_124, S_125, S_126, S_127, S_128, S_129, S_130, S_131, S_132, S_133, S_134, S_135, S_136, S_137, S_138, S_139 ):\n",
    "    \"Output: ANOMALY_FLAG, errors, threshold,  max_anomaly_sensor\"\n",
    "    \n",
    "    import pickle\n",
    "    import numpy as np\n",
    "    import pandas as pd\n",
    "    import tensorflow as tf\n",
    "    from tensorflow import keras\n",
    "    \n",
    "    inputArray = pd.DataFrame([[MACHINE_ID, SENSOR_DATE, S_0, S_1, S_2, S_3, S_4, S_5, S_6, S_7, S_8, S_9, S_10, S_11, S_12, S_13, S_14, S_15, S_16, S_17, S_18, S_19, S_20, S_21, S_22, S_23, S_24, S_25, S_26, S_27, S_28, S_29, S_30, S_31, S_32, S_33, S_34, S_35, S_36, S_37, S_38, S_39, S_40, S_41, S_42, S_43, S_44, S_45, S_46, S_47, S_48, S_49, S_50, S_51, S_52, S_53, S_54, S_55, S_56, S_57, S_58, S_59, S_60, S_61, S_62, S_63, S_64, S_65, S_66, S_67, S_68, S_69, S_70, S_71, S_72, S_73, S_74, S_75, S_76, S_77, S_78, S_79, S_80, S_81, S_82, S_83, S_84, S_85, S_86, S_87, S_88, S_89, S_90, S_91, S_92, S_93, S_94, S_95, S_96, S_97, S_98, S_99, S_100, S_101, S_102, S_103, S_104, S_105, S_106, S_107, S_108, S_109, S_110, S_111, S_112, S_113, S_114, S_115, S_116, S_117, S_118, S_119, S_120, S_121, S_122, S_123, S_124, S_125, S_126, S_127, S_128, S_129, S_130, S_131, S_132, S_133, S_134, S_135, S_136, S_137, S_138, S_139]],\n",
    "                              columns = [\"MACHINE_ID\", \"SENSOR_DATE\", \"S_0\", \"S_1\", \"S_2\", \"S_3\", \"S_4\", \"S_5\", \"S_6\", \"S_7\", \"S_8\", \"S_9\", \"S_10\", \"S_11\", \"S_12\", \"S_13\", \"S_14\", \"S_15\", \"S_16\", \"S_17\", \"S_18\", \"S_19\", \"S_20\", \"S_21\", \"S_22\", \"S_23\", \"S_24\", \"S_25\", \"S_26\", \"S_27\", \"S_28\", \"S_29\", \"S_30\", \"S_31\", \"S_32\", \"S_33\", \"S_34\", \"S_35\", \"S_36\", \"S_37\", \"S_38\", \"S_39\", \"S_40\", \"S_41\", \"S_42\", \"S_43\", \"S_44\", \"S_45\", \"S_46\", \"S_47\", \"S_48\", \"S_49\", \"S_50\", \"S_51\", \"S_52\", \"S_53\", \"S_54\", \"S_55\", \"S_56\", \"S_57\", \"S_58\", \"S_59\", \"S_60\", \"S_61\", \"S_62\", \"S_63\", \"S_64\", \"S_65\", \"S_66\", \"S_67\", \"S_68\", \"S_69\", \"S_70\", \"S_71\", \"S_72\", \"S_73\", \"S_74\", \"S_75\", \"S_76\", \"S_77\", \"S_78\", \"S_79\", \"S_80\", \"S_81\", \"S_82\", \"S_83\", \"S_84\", \"S_85\", \"S_86\", \"S_87\", \"S_88\", \"S_89\", \"S_90\", \"S_91\", \"S_92\", \"S_93\", \"S_94\", \"S_95\", \"S_96\", \"S_97\", \"S_98\", \"S_99\", \"S_100\", \"S_101\", \"S_102\", \"S_103\", \"S_104\", \"S_105\", \"S_106\", \"S_107\", \"S_108\", \"S_109\", \"S_110\", \"S_111\", \"S_112\", \"S_113\", \"S_114\", \"S_115\", \"S_116\", \"S_117\", \"S_118\", \"S_119\", \"S_120\", \"S_121\", \"S_122\", \"S_123\", \"S_124\", \"S_125\", \"S_126\", \"S_127\", \"S_128\", \"S_129\", \"S_130\", \"S_131\", \"S_132\", \"S_133\", \"S_134\", \"S_135\", \"S_136\", \"S_137\", \"S_138\", \"S_139\"]\n",
    "                               )\n",
    "\n",
    "    \n",
    "    inputArray.drop(['MACHINE_ID', 'SENSOR_DATE'],axis=1, inplace=True)\n",
    "    \n",
    "    #print(type(gene))\n",
    "    scaler = pickle.load(open('/sasinside/userdata/gegrab/resources/hmeq/machine_anomaly_scaler.pickle', 'rb'))\n",
    "    \n",
    "    test_data = scaler.transform(inputArray)\n",
    "     \n",
    "    tf.convert_to_tensor(test_data)\n",
    "    \n",
    "     \n",
    "    \n",
    "    #sess = tf.keras.models.load_model(\"/sasinside/userdata/gegrab/resources/hmeq/FAILURE_Tensorflow_Autoencoder\")\n",
    "    sess = keras.models.load_model(\"/sasinside/userdata/gegrab/resources/hmeq/FAILURE_Tensorflow_Autoencoder\")\n",
    "    threshold = pickle.load(open('/sasinside/userdata/gegrab/resources/hmeq/machine_anomaly_threshold.pickle', 'rb')) \n",
    "    predictions = sess.predict(test_data)\n",
    "    errors = tf.keras.losses.msle(predictions, test_data)\n",
    "    \n",
    "    features= np.subtract(predictions, test_data)**2\n",
    "    sensor_flag= 'S_' + str(int(np.where(features ==np.amax(features))[1])) \n",
    "     \n",
    "   \n",
    "\n",
    "    anomaly_mask = pd.Series(errors) > threshold\n",
    "    preds = anomaly_mask.map(lambda x: 1.0 if x == True else 0.0)\n",
    "    \n",
    " \n",
    "    \n",
    "    ANOMALY_FLAG =float(preds)\n",
    "    errors=float(errors)\n",
    "    threshold=float(threshold)\n",
    "    \n",
    "    if ANOMALY_FLAG == 1:\n",
    "        max_anomaly_sensor = sensor_flag\n",
    "    else:\n",
    "        max_anomaly_sensor= ' '\n",
    "\n",
    "     \n",
    "    \n",
    "    \n",
    "    return (ANOMALY_FLAG, errors,threshold,  max_anomaly_sensor)\"\"\"\n",
    "\n",
    "\n",
    "f = open('Data_orig/Machine_Tensorflow_Anomaly_MAX.py',\"w+\")\n",
    "f.write(score_code)\n",
    "f.close()"
   ]
  },
  {
   "cell_type": "code",
   "execution_count": null,
   "metadata": {},
   "outputs": [],
   "source": []
  }
 ],
 "metadata": {
  "colab": {
   "name": "Anomaly Detection Using Autoencoders.ipynb",
   "provenance": [],
   "toc_visible": true
  },
  "kernelspec": {
   "display_name": "Python 3 2022 Latest",
   "language": "python",
   "name": "pytorch2021"
  },
  "language_info": {
   "codemirror_mode": {
    "name": "ipython",
    "version": 3
   },
   "file_extension": ".py",
   "mimetype": "text/x-python",
   "name": "python",
   "nbconvert_exporter": "python",
   "pygments_lexer": "ipython3",
   "version": "3.9.7"
  }
 },
 "nbformat": 4,
 "nbformat_minor": 1
}
